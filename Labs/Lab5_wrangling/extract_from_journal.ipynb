{
 "cells": [
  {
   "cell_type": "raw",
   "id": "ff10ee86",
   "metadata": {
    "vscode": {
     "languageId": "raw"
    }
   },
   "source": [
    "---\n",
    "title: \"Exercise on data wrangling\"\n",
    "author: \"Mélanie Fournier\"\n",
    "date: \"September 21st, 2024\"\n",
    "format:\n",
    "  pdf:\n",
    "    documentclass: scrartcl\n",
    "    papersize: letter\n",
    "---"
   ]
  },
  {
   "cell_type": "markdown",
   "id": "cb205aab-be70-4451-b5bc-a0deb2cf4adb",
   "metadata": {
    "id": "cb205aab-be70-4451-b5bc-a0deb2cf4adb"
   },
   "source": [
    "\n",
    "\n",
    "# Lab: Data Wrangling\n",
    "\n",
    "## Extract data from a scientific paper\n",
    "\n"
   ]
  },
  {
   "cell_type": "code",
   "execution_count": 3,
   "id": "Fhgf6ukF0jO1",
   "metadata": {
    "colab": {
     "base_uri": "https://localhost:8080/",
     "height": 221
    },
    "id": "Fhgf6ukF0jO1",
    "outputId": "a3d6656c-e271-48cb-c881-616b6c44075a"
   },
   "outputs": [],
   "source": [
    "%matplotlib inline\n",
    "import matplotlib\n",
    "import numpy as np\n",
    "import matplotlib.pyplot as plt\n",
    "import pandas as pd\n",
    "\n",
    "# Load HTML using Pandas. If on Colab, you must upload the HTML to your session.\n",
    "df_original = pd.read_html(\"croke.html\")"
   ]
  },
  {
   "cell_type": "markdown",
   "id": "1a6d4c68-970c-45f1-babd-f78b47f1851b",
   "metadata": {},
   "source": [
    "### Task 0\n",
    "\n",
    "What is the type of `df_original`? We want to focus on the \"No salt\" data set, so go ahead and extract that.\n",
    "\n",
    "\n",
    "The df_original file is a list of dataframes of size one. To access the dataframe we simply take the first element of this list. Then, we have a dataframe with two columns, No Salt and 150 mM NaCl, of which we only extract the No Salt part."
   ]
  },
  {
   "cell_type": "code",
   "execution_count": 39,
   "id": "39736669",
   "metadata": {},
   "outputs": [
    {
     "data": {
      "text/html": [
       "<div>\n",
       "<style scoped>\n",
       "    .dataframe tbody tr th:only-of-type {\n",
       "        vertical-align: middle;\n",
       "    }\n",
       "\n",
       "    .dataframe tbody tr th {\n",
       "        vertical-align: top;\n",
       "    }\n",
       "\n",
       "    .dataframe thead th {\n",
       "        text-align: right;\n",
       "    }\n",
       "</style>\n",
       "<table border=\"1\" class=\"dataframe\">\n",
       "  <thead>\n",
       "    <tr style=\"text-align: right;\">\n",
       "      <th></th>\n",
       "      <th>Site</th>\n",
       "      <th>pKa</th>\n",
       "      <th>n</th>\n",
       "      <th>Î´low</th>\n",
       "      <th>Î´high</th>\n",
       "    </tr>\n",
       "  </thead>\n",
       "  <tbody>\n",
       "    <tr>\n",
       "      <th>0</th>\n",
       "      <td>Asp2</td>\n",
       "      <td>3.61 Â± 0.05</td>\n",
       "      <td>1.30 Â± 0.21</td>\n",
       "      <td>38.64 Â± 0.09</td>\n",
       "      <td>41.99 Â± 0.06</td>\n",
       "    </tr>\n",
       "    <tr>\n",
       "      <th>1</th>\n",
       "      <td>Glu13cc Glu13, Glu46 and Glu105 titrate as a s...</td>\n",
       "      <td>4.21 Â± 0.06</td>\n",
       "      <td>0.90 Â± 0.08</td>\n",
       "      <td>33.11 Â± 0.08</td>\n",
       "      <td>36.79 Â± 0.08</td>\n",
       "    </tr>\n",
       "    <tr>\n",
       "      <th>2</th>\n",
       "      <td>Glu20</td>\n",
       "      <td>4.07 Â± 0.04</td>\n",
       "      <td>0.93 Â± 0.06</td>\n",
       "      <td>33.10 Â± 0.05</td>\n",
       "      <td>36.74 Â± 0.04</td>\n",
       "    </tr>\n",
       "    <tr>\n",
       "      <th>3</th>\n",
       "      <td>Glu28</td>\n",
       "      <td>4.20 Â± 0.06</td>\n",
       "      <td>0.96 Â± 0.09</td>\n",
       "      <td>33.16 Â± 0.08</td>\n",
       "      <td>36.92 Â± 0.08</td>\n",
       "    </tr>\n",
       "    <tr>\n",
       "      <th>4</th>\n",
       "      <td>Glu35dd The assignments for Glu35 and Glu110 a...</td>\n",
       "      <td>4.17Â±0.06</td>\n",
       "      <td>0.93 Â± 0.08</td>\n",
       "      <td>33.11 Â± 0.07</td>\n",
       "      <td>36.69 Â± 0.07</td>\n",
       "    </tr>\n",
       "  </tbody>\n",
       "</table>\n",
       "</div>"
      ],
      "text/plain": [
       "                                                Site           pKa  \\\n",
       "0                                               Asp2  3.61 Â± 0.05   \n",
       "1  Glu13cc Glu13, Glu46 and Glu105 titrate as a s...  4.21 Â± 0.06   \n",
       "2                                              Glu20  4.07 Â± 0.04   \n",
       "3                                              Glu28  4.20 Â± 0.06   \n",
       "4  Glu35dd The assignments for Glu35 and Glu110 a...    4.17Â±0.06   \n",
       "\n",
       "              n          Î´low         Î´high  \n",
       "0  1.30 Â± 0.21  38.64 Â± 0.09  41.99 Â± 0.06  \n",
       "1  0.90 Â± 0.08  33.11 Â± 0.08  36.79 Â± 0.08  \n",
       "2  0.93 Â± 0.06  33.10 Â± 0.05  36.74 Â± 0.04  \n",
       "3  0.96 Â± 0.09  33.16 Â± 0.08  36.92 Â± 0.08  \n",
       "4  0.93 Â± 0.08  33.11 Â± 0.07  36.69 Â± 0.07  "
      ]
     },
     "execution_count": 39,
     "metadata": {},
     "output_type": "execute_result"
    }
   ],
   "source": [
    "#| tbl-cap: Extracted data from the html file. Some cleaning need to be done first for it to be usable\n",
    "\n",
    "df_nosalt = df_original[0]['No salt']\n",
    "df_nosalt.head()\n"
   ]
  },
  {
   "attachments": {},
   "cell_type": "markdown",
   "id": "8c40fa28-98b3-40f1-8bb1-a61bedb0c168",
   "metadata": {
    "id": "8c40fa28-98b3-40f1-8bb1-a61bedb0c168"
   },
   "source": [
    "### Task 1\n",
    "\n",
    "In this first task, we clean up the data. The html table extraction worked relatively well, but there are a few artifacts that needs to corrected, as well as tidying up the data. \n",
    "\n",
    "The first thing to do is to separate the values from the uncertainties for all the measurements.\n"
   ]
  },
  {
   "cell_type": "code",
   "execution_count": 133,
   "id": "06145be4",
   "metadata": {},
   "outputs": [],
   "source": [
    "def split_uncertainties(df,column: str):\n",
    "    \"\"\"Split the values and uncertainties for given column,\n",
    "    and add them to the dataframe\n",
    "\n",
    "    Args:\n",
    "        df (_type_): the dataframe\n",
    "        column (str): the column in question\n",
    "    \"\"\"\n",
    "    split = df_nosalt[column].str.split('±|Â')\n",
    "    df_copy = df.copy()\n",
    "    val  = split.str.get(0).astype(float)\n",
    "    err = split.str.get(2).astype(float)\n",
    "    df_copy[column] = val\n",
    "    df_copy[column + '_err'] = err\n",
    "    return df_copy\n",
    "\n",
    "\n",
    "#Splitting values and uncertainties for all the relevant columns\n",
    "df2 = split_uncertainties(df_nosalt,'pKa')\n",
    "df2 = split_uncertainties(df2, 'n')\n",
    "df2 = split_uncertainties(df2, 'Î´low')\n",
    "df2 = split_uncertainties(df2, 'Î´high')\n"
   ]
  },
  {
   "cell_type": "markdown",
   "id": "771b42bb",
   "metadata": {},
   "source": [
    "Then, the site column need to be split in two. One with the name of the site, and the other with the number."
   ]
  },
  {
   "cell_type": "code",
   "execution_count": 134,
   "id": "9e79f53c",
   "metadata": {},
   "outputs": [],
   "source": [
    "def split_site(df):\n",
    "    df2 = df.copy() \n",
    "    #Copying makes this easier to rerun cells independently if need be\n",
    "    #Probably not the most performance friendly, but the \n",
    "    #data set is small anyway!\n",
    "    split = df2[\"Site\"].str.split(\"([A-Za-z]+)(\\d+)\")\n",
    "    resname = split.str.get(1)\n",
    "    resnum = split.str.get(2).astype(\"Int64\")\n",
    "    df2['resname'] = resname\n",
    "    df2['resnum'] = resnum\n",
    "    df2 = df2.drop(columns= ('Site'))\n",
    "    return df2\n",
    "\n",
    "df3 = split_site(df2)\n",
    "#Doing this by hand, as it is alone\n",
    "df3.loc[df3.index[-1],'resname'] = 'alpha-CO_m'\n",
    "\n"
   ]
  },
  {
   "cell_type": "markdown",
   "id": "dc5a938b-a780-477b-a427-438a14e16345",
   "metadata": {
    "id": "dc5a938b-a780-477b-a427-438a14e16345"
   },
   "source": [
    "### Task 2\n",
    "\n",
    "Export the above data to a `CSV` file. Motivate why or why not this is a good idea?\n",
    "\n",
    "Once the cleaning is done, saving it as a csv file allows us to load it easily with pandas again without having to redo the cleaning steps.\n",
    "\n",
    "This is useful if cleaning takes a long time (for very large datasets), if we want to share the data with someone else, without having to share the code, or if we want to analyze the data in another program.\n"
   ]
  },
  {
   "cell_type": "code",
   "execution_count": 111,
   "id": "b8b52889",
   "metadata": {},
   "outputs": [],
   "source": [
    "df3.to_csv('pka_nosalt.csv',index = False)"
   ]
  },
  {
   "cell_type": "markdown",
   "id": "e814fa4c",
   "metadata": {},
   "source": [
    "## Figure reproduction\n",
    "\n",
    "As instructed, we can reproduce the figure that was asked of us. The tidy and clean data makes it very easy to do so."
   ]
  },
  {
   "cell_type": "code",
   "execution_count": 132,
   "id": "dc70454b",
   "metadata": {},
   "outputs": [
    {
     "data": {
      "text/plain": [
       "Text(0.5, 1.0, 'Acid dissociation constants, $pK_a$ of glutamates')"
      ]
     },
     "execution_count": 132,
     "metadata": {},
     "output_type": "execute_result"
    },
    {
     "data": {
      "image/png": "[encoded data removed]",
      "text/plain": [
       "<Figure size 640x480 with 1 Axes>"
      ]
     },
     "metadata": {},
     "output_type": "display_data"
    }
   ],
   "source": [
    "#| fig-cap: Reproduction of the figure shown in the lab instruction\n",
    "\n",
    "dfGlu = df3[df3['resname'] == \"Glu\"]\n",
    "#Filter to only get the Glutamates.\n",
    "\n",
    "fig , ax = plt.subplots()\n",
    "\n",
    "x = dfGlu['resnum']\n",
    "y = dfGlu['pKa']\n",
    "err = dfGlu['pKa_err']\n",
    "ax.errorbar(x,y,yerr = err, fmt='o')\n",
    "ax.set_xlabel('Residue number')\n",
    "ax.set_ylabel('$pK_a$')\n",
    "ax.set_title('Acid dissociation constants, $pK_a$ of glutamates')\n"
   ]
  },
  {
   "cell_type": "markdown",
   "id": "a59739ed-5fb3-4c80-8ee3-21164a36dcc7",
   "metadata": {
    "id": "a59739ed-5fb3-4c80-8ee3-21164a36dcc7"
   },
   "source": [
    "## Relating the paper to the FAIR principles\n",
    "\n",
    "\n",
    "While unwieldy, the data used to reproduce the figure above was available. However, this does not seem to be the case for all figures, which makes reusing the data impossible.\n",
    "\n",
    "The licensing part is also non-ideal. Clicking on the detail part reveals a copyright from the protein society, which does not give me any further information on permissions to reuse or derive from the data in the paper. Going to the protein society website did not help either, as I could not find any information on that part. \n",
    "\n",
    "Even in the presence of data, the code used to reproduce these figures does not seem to be readily available. This is an advantage of working on this notebook which could for example be uploaded to a repository, as well as the cleaned data, in a format that is easily readable by a computer. For this reason, this work would be an improvement w.r.t the FAIR principles. It would be a good idea to also includes meta-data for it.\n",
    "\n",
    "\n",
    "\n",
    "\n",
    "\n"
   ]
  }
 ],
 "metadata": {
  "colab": {
   "provenance": []
  },
  "kernelspec": {
   "display_name": "Python 3 (ipykernel)",
   "language": "python",
   "name": "python3"
  },
  "language_info": {
   "codemirror_mode": {
    "name": "ipython",
    "version": 3
   },
   "file_extension": ".py",
   "mimetype": "text/x-python",
   "name": "python",
   "nbconvert_exporter": "python",
   "pygments_lexer": "ipython3",
   "version": "3.11.7"
  }
 },
 "nbformat": 4,
 "nbformat_minor": 5
}
